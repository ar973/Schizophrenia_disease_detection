{
 "cells": [
  {
   "cell_type": "markdown",
   "id": "027b684e",
   "metadata": {},
   "source": [
    "Read and Process data"
   ]
  },
  {
   "cell_type": "code",
   "execution_count": 68,
   "id": "53ba808d",
   "metadata": {},
   "outputs": [],
   "source": [
    "from glob import glob\n",
    "import os\n",
    "#mne package used to analyse EEG dataset\n",
    "import  mne\n",
    "import numpy as np\n",
    "import pandas\n",
    "import matplotlib.pyplot as plt\n"
   ]
  },
  {
   "cell_type": "code",
   "execution_count": 69,
   "id": "cf7f1110",
   "metadata": {},
   "outputs": [
    {
     "name": "stdout",
     "output_type": "stream",
     "text": [
      "28\n"
     ]
    }
   ],
   "source": [
    "all_file_path = glob('dataverse_files/*.edf')\n",
    "print(len(all_file_path))"
   ]
  },
  {
   "cell_type": "code",
   "execution_count": 70,
   "id": "400ee5f7",
   "metadata": {},
   "outputs": [
    {
     "data": {
      "text/plain": [
       "'dataverse_files\\\\h01.edf'"
      ]
     },
     "execution_count": 70,
     "metadata": {},
     "output_type": "execute_result"
    }
   ],
   "source": [
    "all_file_path[0]"
   ]
  },
  {
   "cell_type": "code",
   "execution_count": 71,
   "id": "29388628",
   "metadata": {},
   "outputs": [
    {
     "name": "stdout",
     "output_type": "stream",
     "text": [
      "14 14\n"
     ]
    }
   ],
   "source": [
    "healthy_file_path = [i for i in all_file_path if 'h' in i.split('\\\\')[1]]\n",
    "patient_file_path = [i for i in all_file_path if 's' in i.split('\\\\')[1]]\n",
    "print(len(healthy_file_path), len(patient_file_path))\n"
   ]
  },
  {
   "cell_type": "code",
   "execution_count": 72,
   "id": "f60a2a90",
   "metadata": {},
   "outputs": [],
   "source": [
    "def read_data(file_path):\n",
    "    data = mne.io.read_raw_edf(file_path, preload = True)\n",
    "    data.set_eeg_reference()\n",
    "    data.filter(l_freq= 0.5 , h_freq = 45)\n",
    "    epochs = mne.make_fixed_length_epochs(data, duration = 5, overlap =1)\n",
    "    array = epochs.get_data()\n",
    "    return array"
   ]
  },
  {
   "cell_type": "code",
   "execution_count": 109,
   "id": "2471c8a6",
   "metadata": {
    "scrolled": true
   },
   "outputs": [
    {
     "name": "stdout",
     "output_type": "stream",
     "text": [
      "Extracting EDF parameters from C:\\Users\\ARADHANA\\Documents\\dataverse_files\\h01.edf...\n",
      "EDF file detected\n",
      "Setting channel info structure...\n",
      "Creating raw.info structure...\n",
      "Reading 0 ... 231249  =      0.000 ...   924.996 secs...\n",
      "EEG channel type selected for re-referencing\n",
      "Applying average reference.\n",
      "Applying a custom ('EEG',) reference.\n",
      "Filtering raw data in 1 contiguous segment\n",
      "Setting up band-pass filter from 0.5 - 45 Hz\n",
      "\n",
      "FIR filter parameters\n",
      "---------------------\n",
      "Designing a one-pass, zero-phase, non-causal bandpass filter:\n",
      "- Windowed time-domain design (firwin) method\n",
      "- Hamming window with 0.0194 passband ripple and 53 dB stopband attenuation\n",
      "- Lower passband edge: 0.50\n",
      "- Lower transition bandwidth: 0.50 Hz (-6 dB cutoff frequency: 0.25 Hz)\n",
      "- Upper passband edge: 45.00 Hz\n",
      "- Upper transition bandwidth: 11.25 Hz (-6 dB cutoff frequency: 50.62 Hz)\n",
      "- Filter length: 1651 samples (6.604 sec)\n",
      "\n",
      "Not setting metadata\n",
      "231 matching events found\n",
      "No baseline correction applied\n",
      "0 projection items activated\n",
      "Using data from preloaded Raw for 231 events and 1250 original time points ...\n",
      "0 bad epochs dropped\n",
      "Extracting EDF parameters from C:\\Users\\ARADHANA\\Documents\\dataverse_files\\h02.edf...\n",
      "EDF file detected\n",
      "Setting channel info structure...\n",
      "Creating raw.info structure...\n",
      "Reading 0 ... 227499  =      0.000 ...   909.996 secs...\n",
      "EEG channel type selected for re-referencing\n",
      "Applying average reference.\n",
      "Applying a custom ('EEG',) reference.\n",
      "Filtering raw data in 1 contiguous segment\n",
      "Setting up band-pass filter from 0.5 - 45 Hz\n",
      "\n",
      "FIR filter parameters\n",
      "---------------------\n",
      "Designing a one-pass, zero-phase, non-causal bandpass filter:\n",
      "- Windowed time-domain design (firwin) method\n",
      "- Hamming window with 0.0194 passband ripple and 53 dB stopband attenuation\n",
      "- Lower passband edge: 0.50\n",
      "- Lower transition bandwidth: 0.50 Hz (-6 dB cutoff frequency: 0.25 Hz)\n",
      "- Upper passband edge: 45.00 Hz\n",
      "- Upper transition bandwidth: 11.25 Hz (-6 dB cutoff frequency: 50.62 Hz)\n",
      "- Filter length: 1651 samples (6.604 sec)\n",
      "\n",
      "Not setting metadata\n",
      "227 matching events found\n",
      "No baseline correction applied\n",
      "0 projection items activated\n",
      "Using data from preloaded Raw for 227 events and 1250 original time points ...\n",
      "0 bad epochs dropped\n",
      "Extracting EDF parameters from C:\\Users\\ARADHANA\\Documents\\dataverse_files\\h03.edf...\n",
      "EDF file detected\n",
      "Setting channel info structure...\n",
      "Creating raw.info structure...\n",
      "Reading 0 ... 227499  =      0.000 ...   909.996 secs...\n",
      "EEG channel type selected for re-referencing\n",
      "Applying average reference.\n",
      "Applying a custom ('EEG',) reference.\n",
      "Filtering raw data in 1 contiguous segment\n",
      "Setting up band-pass filter from 0.5 - 45 Hz\n",
      "\n",
      "FIR filter parameters\n",
      "---------------------\n",
      "Designing a one-pass, zero-phase, non-causal bandpass filter:\n",
      "- Windowed time-domain design (firwin) method\n",
      "- Hamming window with 0.0194 passband ripple and 53 dB stopband attenuation\n",
      "- Lower passband edge: 0.50\n",
      "- Lower transition bandwidth: 0.50 Hz (-6 dB cutoff frequency: 0.25 Hz)\n",
      "- Upper passband edge: 45.00 Hz\n",
      "- Upper transition bandwidth: 11.25 Hz (-6 dB cutoff frequency: 50.62 Hz)\n",
      "- Filter length: 1651 samples (6.604 sec)\n",
      "\n",
      "Not setting metadata\n",
      "227 matching events found\n",
      "No baseline correction applied\n",
      "0 projection items activated\n",
      "Using data from preloaded Raw for 227 events and 1250 original time points ...\n",
      "0 bad epochs dropped\n",
      "Extracting EDF parameters from C:\\Users\\ARADHANA\\Documents\\dataverse_files\\h04.edf...\n",
      "EDF file detected\n",
      "Setting channel info structure...\n",
      "Creating raw.info structure...\n",
      "Reading 0 ... 231249  =      0.000 ...   924.996 secs...\n",
      "EEG channel type selected for re-referencing\n",
      "Applying average reference.\n",
      "Applying a custom ('EEG',) reference.\n",
      "Filtering raw data in 1 contiguous segment\n",
      "Setting up band-pass filter from 0.5 - 45 Hz\n",
      "\n",
      "FIR filter parameters\n",
      "---------------------\n",
      "Designing a one-pass, zero-phase, non-causal bandpass filter:\n",
      "- Windowed time-domain design (firwin) method\n",
      "- Hamming window with 0.0194 passband ripple and 53 dB stopband attenuation\n",
      "- Lower passband edge: 0.50\n",
      "- Lower transition bandwidth: 0.50 Hz (-6 dB cutoff frequency: 0.25 Hz)\n",
      "- Upper passband edge: 45.00 Hz\n",
      "- Upper transition bandwidth: 11.25 Hz (-6 dB cutoff frequency: 50.62 Hz)\n",
      "- Filter length: 1651 samples (6.604 sec)\n",
      "\n",
      "Not setting metadata\n",
      "231 matching events found\n",
      "No baseline correction applied\n",
      "0 projection items activated\n",
      "Using data from preloaded Raw for 231 events and 1250 original time points ...\n",
      "0 bad epochs dropped\n",
      "Extracting EDF parameters from C:\\Users\\ARADHANA\\Documents\\dataverse_files\\h05.edf...\n",
      "EDF file detected\n",
      "Setting channel info structure...\n",
      "Creating raw.info structure...\n",
      "Reading 0 ... 236249  =      0.000 ...   944.996 secs...\n",
      "EEG channel type selected for re-referencing\n",
      "Applying average reference.\n",
      "Applying a custom ('EEG',) reference.\n",
      "Filtering raw data in 1 contiguous segment\n",
      "Setting up band-pass filter from 0.5 - 45 Hz\n",
      "\n",
      "FIR filter parameters\n",
      "---------------------\n",
      "Designing a one-pass, zero-phase, non-causal bandpass filter:\n",
      "- Windowed time-domain design (firwin) method\n",
      "- Hamming window with 0.0194 passband ripple and 53 dB stopband attenuation\n",
      "- Lower passband edge: 0.50\n",
      "- Lower transition bandwidth: 0.50 Hz (-6 dB cutoff frequency: 0.25 Hz)\n",
      "- Upper passband edge: 45.00 Hz\n",
      "- Upper transition bandwidth: 11.25 Hz (-6 dB cutoff frequency: 50.62 Hz)\n",
      "- Filter length: 1651 samples (6.604 sec)\n",
      "\n",
      "Not setting metadata\n",
      "236 matching events found\n",
      "No baseline correction applied\n",
      "0 projection items activated\n",
      "Using data from preloaded Raw for 236 events and 1250 original time points ...\n",
      "0 bad epochs dropped\n",
      "Extracting EDF parameters from C:\\Users\\ARADHANA\\Documents\\dataverse_files\\h06.edf...\n",
      "EDF file detected\n",
      "Setting channel info structure...\n",
      "Creating raw.info structure...\n",
      "Reading 0 ... 232499  =      0.000 ...   929.996 secs...\n",
      "EEG channel type selected for re-referencing\n",
      "Applying average reference.\n",
      "Applying a custom ('EEG',) reference.\n",
      "Filtering raw data in 1 contiguous segment\n",
      "Setting up band-pass filter from 0.5 - 45 Hz\n",
      "\n",
      "FIR filter parameters\n",
      "---------------------\n",
      "Designing a one-pass, zero-phase, non-causal bandpass filter:\n",
      "- Windowed time-domain design (firwin) method\n",
      "- Hamming window with 0.0194 passband ripple and 53 dB stopband attenuation\n",
      "- Lower passband edge: 0.50\n",
      "- Lower transition bandwidth: 0.50 Hz (-6 dB cutoff frequency: 0.25 Hz)\n",
      "- Upper passband edge: 45.00 Hz\n",
      "- Upper transition bandwidth: 11.25 Hz (-6 dB cutoff frequency: 50.62 Hz)\n",
      "- Filter length: 1651 samples (6.604 sec)\n",
      "\n",
      "Not setting metadata\n",
      "232 matching events found\n",
      "No baseline correction applied\n",
      "0 projection items activated\n",
      "Using data from preloaded Raw for 232 events and 1250 original time points ...\n",
      "0 bad epochs dropped\n",
      "Extracting EDF parameters from C:\\Users\\ARADHANA\\Documents\\dataverse_files\\h07.edf...\n",
      "EDF file detected\n",
      "Setting channel info structure...\n",
      "Creating raw.info structure...\n",
      "Reading 0 ... 227499  =      0.000 ...   909.996 secs...\n",
      "EEG channel type selected for re-referencing\n",
      "Applying average reference.\n",
      "Applying a custom ('EEG',) reference.\n",
      "Filtering raw data in 1 contiguous segment\n",
      "Setting up band-pass filter from 0.5 - 45 Hz\n",
      "\n",
      "FIR filter parameters\n",
      "---------------------\n",
      "Designing a one-pass, zero-phase, non-causal bandpass filter:\n",
      "- Windowed time-domain design (firwin) method\n",
      "- Hamming window with 0.0194 passband ripple and 53 dB stopband attenuation\n",
      "- Lower passband edge: 0.50\n",
      "- Lower transition bandwidth: 0.50 Hz (-6 dB cutoff frequency: 0.25 Hz)\n",
      "- Upper passband edge: 45.00 Hz\n",
      "- Upper transition bandwidth: 11.25 Hz (-6 dB cutoff frequency: 50.62 Hz)\n",
      "- Filter length: 1651 samples (6.604 sec)\n",
      "\n",
      "Not setting metadata\n",
      "227 matching events found\n",
      "No baseline correction applied\n",
      "0 projection items activated\n",
      "Using data from preloaded Raw for 227 events and 1250 original time points ...\n",
      "0 bad epochs dropped\n",
      "Extracting EDF parameters from C:\\Users\\ARADHANA\\Documents\\dataverse_files\\h08.edf...\n",
      "EDF file detected\n",
      "Setting channel info structure...\n",
      "Creating raw.info structure...\n",
      "Reading 0 ... 227499  =      0.000 ...   909.996 secs...\n",
      "EEG channel type selected for re-referencing\n",
      "Applying average reference.\n",
      "Applying a custom ('EEG',) reference.\n",
      "Filtering raw data in 1 contiguous segment\n",
      "Setting up band-pass filter from 0.5 - 45 Hz\n"
     ]
    },
    {
     "name": "stdout",
     "output_type": "stream",
     "text": [
      "\n",
      "FIR filter parameters\n",
      "---------------------\n",
      "Designing a one-pass, zero-phase, non-causal bandpass filter:\n",
      "- Windowed time-domain design (firwin) method\n",
      "- Hamming window with 0.0194 passband ripple and 53 dB stopband attenuation\n",
      "- Lower passband edge: 0.50\n",
      "- Lower transition bandwidth: 0.50 Hz (-6 dB cutoff frequency: 0.25 Hz)\n",
      "- Upper passband edge: 45.00 Hz\n",
      "- Upper transition bandwidth: 11.25 Hz (-6 dB cutoff frequency: 50.62 Hz)\n",
      "- Filter length: 1651 samples (6.604 sec)\n",
      "\n",
      "Not setting metadata\n",
      "227 matching events found\n",
      "No baseline correction applied\n",
      "0 projection items activated\n",
      "Using data from preloaded Raw for 227 events and 1250 original time points ...\n",
      "0 bad epochs dropped\n",
      "Extracting EDF parameters from C:\\Users\\ARADHANA\\Documents\\dataverse_files\\h09.edf...\n",
      "EDF file detected\n",
      "Setting channel info structure...\n",
      "Creating raw.info structure...\n",
      "Reading 0 ... 226249  =      0.000 ...   904.996 secs...\n",
      "EEG channel type selected for re-referencing\n",
      "Applying average reference.\n",
      "Applying a custom ('EEG',) reference.\n",
      "Filtering raw data in 1 contiguous segment\n",
      "Setting up band-pass filter from 0.5 - 45 Hz\n",
      "\n",
      "FIR filter parameters\n",
      "---------------------\n",
      "Designing a one-pass, zero-phase, non-causal bandpass filter:\n",
      "- Windowed time-domain design (firwin) method\n",
      "- Hamming window with 0.0194 passband ripple and 53 dB stopband attenuation\n",
      "- Lower passband edge: 0.50\n",
      "- Lower transition bandwidth: 0.50 Hz (-6 dB cutoff frequency: 0.25 Hz)\n",
      "- Upper passband edge: 45.00 Hz\n",
      "- Upper transition bandwidth: 11.25 Hz (-6 dB cutoff frequency: 50.62 Hz)\n",
      "- Filter length: 1651 samples (6.604 sec)\n",
      "\n",
      "Not setting metadata\n",
      "226 matching events found\n",
      "No baseline correction applied\n",
      "0 projection items activated\n",
      "Using data from preloaded Raw for 226 events and 1250 original time points ...\n",
      "0 bad epochs dropped\n",
      "Extracting EDF parameters from C:\\Users\\ARADHANA\\Documents\\dataverse_files\\h10.edf...\n",
      "EDF file detected\n",
      "Setting channel info structure...\n",
      "Creating raw.info structure...\n",
      "Reading 0 ... 278749  =      0.000 ...  1114.996 secs...\n",
      "EEG channel type selected for re-referencing\n",
      "Applying average reference.\n",
      "Applying a custom ('EEG',) reference.\n",
      "Filtering raw data in 1 contiguous segment\n",
      "Setting up band-pass filter from 0.5 - 45 Hz\n",
      "\n",
      "FIR filter parameters\n",
      "---------------------\n",
      "Designing a one-pass, zero-phase, non-causal bandpass filter:\n",
      "- Windowed time-domain design (firwin) method\n",
      "- Hamming window with 0.0194 passband ripple and 53 dB stopband attenuation\n",
      "- Lower passband edge: 0.50\n",
      "- Lower transition bandwidth: 0.50 Hz (-6 dB cutoff frequency: 0.25 Hz)\n",
      "- Upper passband edge: 45.00 Hz\n",
      "- Upper transition bandwidth: 11.25 Hz (-6 dB cutoff frequency: 50.62 Hz)\n",
      "- Filter length: 1651 samples (6.604 sec)\n",
      "\n",
      "Not setting metadata\n",
      "278 matching events found\n",
      "No baseline correction applied\n",
      "0 projection items activated\n",
      "Using data from preloaded Raw for 278 events and 1250 original time points ...\n",
      "0 bad epochs dropped\n",
      "Extracting EDF parameters from C:\\Users\\ARADHANA\\Documents\\dataverse_files\\h11.edf...\n",
      "EDF file detected\n",
      "Setting channel info structure...\n",
      "Creating raw.info structure...\n",
      "Reading 0 ... 228749  =      0.000 ...   914.996 secs...\n",
      "EEG channel type selected for re-referencing\n",
      "Applying average reference.\n",
      "Applying a custom ('EEG',) reference.\n",
      "Filtering raw data in 1 contiguous segment\n",
      "Setting up band-pass filter from 0.5 - 45 Hz\n",
      "\n",
      "FIR filter parameters\n",
      "---------------------\n",
      "Designing a one-pass, zero-phase, non-causal bandpass filter:\n",
      "- Windowed time-domain design (firwin) method\n",
      "- Hamming window with 0.0194 passband ripple and 53 dB stopband attenuation\n",
      "- Lower passband edge: 0.50\n",
      "- Lower transition bandwidth: 0.50 Hz (-6 dB cutoff frequency: 0.25 Hz)\n",
      "- Upper passband edge: 45.00 Hz\n",
      "- Upper transition bandwidth: 11.25 Hz (-6 dB cutoff frequency: 50.62 Hz)\n",
      "- Filter length: 1651 samples (6.604 sec)\n",
      "\n",
      "Not setting metadata\n",
      "228 matching events found\n",
      "No baseline correction applied\n",
      "0 projection items activated\n",
      "Using data from preloaded Raw for 228 events and 1250 original time points ...\n",
      "0 bad epochs dropped\n",
      "Extracting EDF parameters from C:\\Users\\ARADHANA\\Documents\\dataverse_files\\h12.edf...\n",
      "EDF file detected\n",
      "Setting channel info structure...\n",
      "Creating raw.info structure...\n",
      "Reading 0 ... 224999  =      0.000 ...   899.996 secs...\n",
      "EEG channel type selected for re-referencing\n",
      "Applying average reference.\n",
      "Applying a custom ('EEG',) reference.\n",
      "Filtering raw data in 1 contiguous segment\n",
      "Setting up band-pass filter from 0.5 - 45 Hz\n",
      "\n",
      "FIR filter parameters\n",
      "---------------------\n",
      "Designing a one-pass, zero-phase, non-causal bandpass filter:\n",
      "- Windowed time-domain design (firwin) method\n",
      "- Hamming window with 0.0194 passband ripple and 53 dB stopband attenuation\n",
      "- Lower passband edge: 0.50\n",
      "- Lower transition bandwidth: 0.50 Hz (-6 dB cutoff frequency: 0.25 Hz)\n",
      "- Upper passband edge: 45.00 Hz\n",
      "- Upper transition bandwidth: 11.25 Hz (-6 dB cutoff frequency: 50.62 Hz)\n",
      "- Filter length: 1651 samples (6.604 sec)\n",
      "\n",
      "Not setting metadata\n",
      "224 matching events found\n",
      "No baseline correction applied\n",
      "0 projection items activated\n",
      "Using data from preloaded Raw for 224 events and 1250 original time points ...\n",
      "0 bad epochs dropped\n",
      "Extracting EDF parameters from C:\\Users\\ARADHANA\\Documents\\dataverse_files\\h13.edf...\n",
      "EDF file detected\n",
      "Setting channel info structure...\n",
      "Creating raw.info structure...\n",
      "Reading 0 ... 241249  =      0.000 ...   964.996 secs...\n",
      "EEG channel type selected for re-referencing\n",
      "Applying average reference.\n",
      "Applying a custom ('EEG',) reference.\n",
      "Filtering raw data in 1 contiguous segment\n",
      "Setting up band-pass filter from 0.5 - 45 Hz\n",
      "\n",
      "FIR filter parameters\n",
      "---------------------\n",
      "Designing a one-pass, zero-phase, non-causal bandpass filter:\n",
      "- Windowed time-domain design (firwin) method\n",
      "- Hamming window with 0.0194 passband ripple and 53 dB stopband attenuation\n",
      "- Lower passband edge: 0.50\n",
      "- Lower transition bandwidth: 0.50 Hz (-6 dB cutoff frequency: 0.25 Hz)\n",
      "- Upper passband edge: 45.00 Hz\n",
      "- Upper transition bandwidth: 11.25 Hz (-6 dB cutoff frequency: 50.62 Hz)\n",
      "- Filter length: 1651 samples (6.604 sec)\n",
      "\n",
      "Not setting metadata\n",
      "241 matching events found\n",
      "No baseline correction applied\n",
      "0 projection items activated\n",
      "Using data from preloaded Raw for 241 events and 1250 original time points ...\n",
      "0 bad epochs dropped\n",
      "Extracting EDF parameters from C:\\Users\\ARADHANA\\Documents\\dataverse_files\\h14.edf...\n",
      "EDF file detected\n",
      "Setting channel info structure...\n",
      "Creating raw.info structure...\n",
      "Reading 0 ... 216249  =      0.000 ...   864.996 secs...\n",
      "EEG channel type selected for re-referencing\n",
      "Applying average reference.\n",
      "Applying a custom ('EEG',) reference.\n",
      "Filtering raw data in 1 contiguous segment\n",
      "Setting up band-pass filter from 0.5 - 45 Hz\n",
      "\n",
      "FIR filter parameters\n",
      "---------------------\n",
      "Designing a one-pass, zero-phase, non-causal bandpass filter:\n",
      "- Windowed time-domain design (firwin) method\n",
      "- Hamming window with 0.0194 passband ripple and 53 dB stopband attenuation\n",
      "- Lower passband edge: 0.50\n",
      "- Lower transition bandwidth: 0.50 Hz (-6 dB cutoff frequency: 0.25 Hz)\n",
      "- Upper passband edge: 45.00 Hz\n",
      "- Upper transition bandwidth: 11.25 Hz (-6 dB cutoff frequency: 50.62 Hz)\n",
      "- Filter length: 1651 samples (6.604 sec)\n",
      "\n",
      "Not setting metadata\n",
      "216 matching events found\n",
      "No baseline correction applied\n",
      "0 projection items activated\n",
      "Using data from preloaded Raw for 216 events and 1250 original time points ...\n",
      "0 bad epochs dropped\n"
     ]
    }
   ],
   "source": [
    "data_set = []\n",
    "\n",
    "for i in range(0,14):\n",
    "    data_set.append(read_data(healthy_file_path[i]))\n",
    "    \n",
    "\n",
    "#sample_data = read_data(healthy_file_path[0])"
   ]
  },
  {
   "cell_type": "code",
   "execution_count": 110,
   "id": "154fd940",
   "metadata": {},
   "outputs": [
    {
     "name": "stdout",
     "output_type": "stream",
     "text": [
      "Extracting EDF parameters from C:\\Users\\ARADHANA\\Documents\\dataverse_files\\s01.edf...\n",
      "EDF file detected\n",
      "Setting channel info structure...\n",
      "Creating raw.info structure...\n",
      "Reading 0 ... 211249  =      0.000 ...   844.996 secs...\n",
      "EEG channel type selected for re-referencing\n",
      "Applying average reference.\n",
      "Applying a custom ('EEG',) reference.\n",
      "Filtering raw data in 1 contiguous segment\n",
      "Setting up band-pass filter from 0.5 - 45 Hz\n",
      "\n",
      "FIR filter parameters\n",
      "---------------------\n",
      "Designing a one-pass, zero-phase, non-causal bandpass filter:\n",
      "- Windowed time-domain design (firwin) method\n",
      "- Hamming window with 0.0194 passband ripple and 53 dB stopband attenuation\n",
      "- Lower passband edge: 0.50\n",
      "- Lower transition bandwidth: 0.50 Hz (-6 dB cutoff frequency: 0.25 Hz)\n",
      "- Upper passband edge: 45.00 Hz\n",
      "- Upper transition bandwidth: 11.25 Hz (-6 dB cutoff frequency: 50.62 Hz)\n",
      "- Filter length: 1651 samples (6.604 sec)\n",
      "\n",
      "Not setting metadata\n",
      "211 matching events found\n",
      "No baseline correction applied\n",
      "0 projection items activated\n",
      "Using data from preloaded Raw for 211 events and 1250 original time points ...\n",
      "0 bad epochs dropped\n",
      "Extracting EDF parameters from C:\\Users\\ARADHANA\\Documents\\dataverse_files\\s02.edf...\n",
      "EDF file detected\n",
      "Setting channel info structure...\n",
      "Creating raw.info structure...\n",
      "Reading 0 ... 286249  =      0.000 ...  1144.996 secs...\n",
      "EEG channel type selected for re-referencing\n",
      "Applying average reference.\n",
      "Applying a custom ('EEG',) reference.\n",
      "Filtering raw data in 1 contiguous segment\n",
      "Setting up band-pass filter from 0.5 - 45 Hz\n",
      "\n",
      "FIR filter parameters\n",
      "---------------------\n",
      "Designing a one-pass, zero-phase, non-causal bandpass filter:\n",
      "- Windowed time-domain design (firwin) method\n",
      "- Hamming window with 0.0194 passband ripple and 53 dB stopband attenuation\n",
      "- Lower passband edge: 0.50\n",
      "- Lower transition bandwidth: 0.50 Hz (-6 dB cutoff frequency: 0.25 Hz)\n",
      "- Upper passband edge: 45.00 Hz\n",
      "- Upper transition bandwidth: 11.25 Hz (-6 dB cutoff frequency: 50.62 Hz)\n",
      "- Filter length: 1651 samples (6.604 sec)\n",
      "\n",
      "Not setting metadata\n",
      "286 matching events found\n",
      "No baseline correction applied\n",
      "0 projection items activated\n",
      "Using data from preloaded Raw for 286 events and 1250 original time points ...\n",
      "0 bad epochs dropped\n",
      "Extracting EDF parameters from C:\\Users\\ARADHANA\\Documents\\dataverse_files\\s03.edf...\n",
      "EDF file detected\n",
      "Setting channel info structure...\n",
      "Creating raw.info structure...\n",
      "Reading 0 ... 240999  =      0.000 ...   963.996 secs...\n",
      "EEG channel type selected for re-referencing\n",
      "Applying average reference.\n",
      "Applying a custom ('EEG',) reference.\n",
      "Filtering raw data in 1 contiguous segment\n",
      "Setting up band-pass filter from 0.5 - 45 Hz\n",
      "\n",
      "FIR filter parameters\n",
      "---------------------\n",
      "Designing a one-pass, zero-phase, non-causal bandpass filter:\n",
      "- Windowed time-domain design (firwin) method\n",
      "- Hamming window with 0.0194 passband ripple and 53 dB stopband attenuation\n",
      "- Lower passband edge: 0.50\n",
      "- Lower transition bandwidth: 0.50 Hz (-6 dB cutoff frequency: 0.25 Hz)\n",
      "- Upper passband edge: 45.00 Hz\n",
      "- Upper transition bandwidth: 11.25 Hz (-6 dB cutoff frequency: 50.62 Hz)\n",
      "- Filter length: 1651 samples (6.604 sec)\n",
      "\n",
      "Not setting metadata\n",
      "240 matching events found\n",
      "No baseline correction applied\n",
      "0 projection items activated\n",
      "Using data from preloaded Raw for 240 events and 1250 original time points ...\n",
      "0 bad epochs dropped\n",
      "Extracting EDF parameters from C:\\Users\\ARADHANA\\Documents\\dataverse_files\\s04.edf...\n",
      "EDF file detected\n",
      "Setting channel info structure...\n",
      "Creating raw.info structure...\n",
      "Reading 0 ... 301249  =      0.000 ...  1204.996 secs...\n",
      "EEG channel type selected for re-referencing\n",
      "Applying average reference.\n",
      "Applying a custom ('EEG',) reference.\n",
      "Filtering raw data in 1 contiguous segment\n",
      "Setting up band-pass filter from 0.5 - 45 Hz\n",
      "\n",
      "FIR filter parameters\n",
      "---------------------\n",
      "Designing a one-pass, zero-phase, non-causal bandpass filter:\n",
      "- Windowed time-domain design (firwin) method\n",
      "- Hamming window with 0.0194 passband ripple and 53 dB stopband attenuation\n",
      "- Lower passband edge: 0.50\n",
      "- Lower transition bandwidth: 0.50 Hz (-6 dB cutoff frequency: 0.25 Hz)\n",
      "- Upper passband edge: 45.00 Hz\n",
      "- Upper transition bandwidth: 11.25 Hz (-6 dB cutoff frequency: 50.62 Hz)\n",
      "- Filter length: 1651 samples (6.604 sec)\n",
      "\n",
      "Not setting metadata\n",
      "301 matching events found\n",
      "No baseline correction applied\n",
      "0 projection items activated\n",
      "Using data from preloaded Raw for 301 events and 1250 original time points ...\n",
      "0 bad epochs dropped\n",
      "Extracting EDF parameters from C:\\Users\\ARADHANA\\Documents\\dataverse_files\\s05.edf...\n",
      "EDF file detected\n",
      "Setting channel info structure...\n",
      "Creating raw.info structure...\n",
      "Reading 0 ... 222499  =      0.000 ...   889.996 secs...\n",
      "EEG channel type selected for re-referencing\n",
      "Applying average reference.\n",
      "Applying a custom ('EEG',) reference.\n",
      "Filtering raw data in 1 contiguous segment\n",
      "Setting up band-pass filter from 0.5 - 45 Hz\n",
      "\n",
      "FIR filter parameters\n",
      "---------------------\n",
      "Designing a one-pass, zero-phase, non-causal bandpass filter:\n",
      "- Windowed time-domain design (firwin) method\n",
      "- Hamming window with 0.0194 passband ripple and 53 dB stopband attenuation\n",
      "- Lower passband edge: 0.50\n",
      "- Lower transition bandwidth: 0.50 Hz (-6 dB cutoff frequency: 0.25 Hz)\n",
      "- Upper passband edge: 45.00 Hz\n",
      "- Upper transition bandwidth: 11.25 Hz (-6 dB cutoff frequency: 50.62 Hz)\n",
      "- Filter length: 1651 samples (6.604 sec)\n",
      "\n",
      "Not setting metadata\n",
      "222 matching events found\n",
      "No baseline correction applied\n",
      "0 projection items activated\n",
      "Using data from preloaded Raw for 222 events and 1250 original time points ...\n",
      "0 bad epochs dropped\n",
      "Extracting EDF parameters from C:\\Users\\ARADHANA\\Documents\\dataverse_files\\s06.edf...\n",
      "EDF file detected\n",
      "Setting channel info structure...\n",
      "Creating raw.info structure...\n",
      "Reading 0 ... 184999  =      0.000 ...   739.996 secs...\n",
      "EEG channel type selected for re-referencing\n",
      "Applying average reference.\n",
      "Applying a custom ('EEG',) reference.\n",
      "Filtering raw data in 1 contiguous segment\n",
      "Setting up band-pass filter from 0.5 - 45 Hz\n",
      "\n",
      "FIR filter parameters\n",
      "---------------------\n",
      "Designing a one-pass, zero-phase, non-causal bandpass filter:\n",
      "- Windowed time-domain design (firwin) method\n",
      "- Hamming window with 0.0194 passband ripple and 53 dB stopband attenuation\n",
      "- Lower passband edge: 0.50\n",
      "- Lower transition bandwidth: 0.50 Hz (-6 dB cutoff frequency: 0.25 Hz)\n",
      "- Upper passband edge: 45.00 Hz\n",
      "- Upper transition bandwidth: 11.25 Hz (-6 dB cutoff frequency: 50.62 Hz)\n",
      "- Filter length: 1651 samples (6.604 sec)\n",
      "\n",
      "Not setting metadata\n",
      "184 matching events found\n",
      "No baseline correction applied\n",
      "0 projection items activated\n",
      "Using data from preloaded Raw for 184 events and 1250 original time points ...\n",
      "0 bad epochs dropped\n",
      "Extracting EDF parameters from C:\\Users\\ARADHANA\\Documents\\dataverse_files\\s07.edf...\n",
      "EDF file detected\n",
      "Setting channel info structure...\n",
      "Creating raw.info structure...\n",
      "Reading 0 ... 336499  =      0.000 ...  1345.996 secs...\n",
      "EEG channel type selected for re-referencing\n",
      "Applying average reference.\n",
      "Applying a custom ('EEG',) reference.\n",
      "Filtering raw data in 1 contiguous segment\n",
      "Setting up band-pass filter from 0.5 - 45 Hz\n",
      "\n",
      "FIR filter parameters\n",
      "---------------------\n",
      "Designing a one-pass, zero-phase, non-causal bandpass filter:\n",
      "- Windowed time-domain design (firwin) method\n",
      "- Hamming window with 0.0194 passband ripple and 53 dB stopband attenuation\n",
      "- Lower passband edge: 0.50\n",
      "- Lower transition bandwidth: 0.50 Hz (-6 dB cutoff frequency: 0.25 Hz)\n",
      "- Upper passband edge: 45.00 Hz\n",
      "- Upper transition bandwidth: 11.25 Hz (-6 dB cutoff frequency: 50.62 Hz)\n",
      "- Filter length: 1651 samples (6.604 sec)\n",
      "\n",
      "Not setting metadata\n",
      "336 matching events found\n",
      "No baseline correction applied\n",
      "0 projection items activated\n",
      "Using data from preloaded Raw for 336 events and 1250 original time points ...\n",
      "0 bad epochs dropped\n",
      "Extracting EDF parameters from C:\\Users\\ARADHANA\\Documents\\dataverse_files\\s08.edf...\n",
      "EDF file detected\n",
      "Setting channel info structure...\n",
      "Creating raw.info structure...\n",
      "Reading 0 ... 227749  =      0.000 ...   910.996 secs...\n",
      "EEG channel type selected for re-referencing\n",
      "Applying average reference.\n",
      "Applying a custom ('EEG',) reference.\n",
      "Filtering raw data in 1 contiguous segment\n",
      "Setting up band-pass filter from 0.5 - 45 Hz\n"
     ]
    },
    {
     "name": "stdout",
     "output_type": "stream",
     "text": [
      "\n",
      "FIR filter parameters\n",
      "---------------------\n",
      "Designing a one-pass, zero-phase, non-causal bandpass filter:\n",
      "- Windowed time-domain design (firwin) method\n",
      "- Hamming window with 0.0194 passband ripple and 53 dB stopband attenuation\n",
      "- Lower passband edge: 0.50\n",
      "- Lower transition bandwidth: 0.50 Hz (-6 dB cutoff frequency: 0.25 Hz)\n",
      "- Upper passband edge: 45.00 Hz\n",
      "- Upper transition bandwidth: 11.25 Hz (-6 dB cutoff frequency: 50.62 Hz)\n",
      "- Filter length: 1651 samples (6.604 sec)\n",
      "\n",
      "Not setting metadata\n",
      "227 matching events found\n",
      "No baseline correction applied\n",
      "0 projection items activated\n",
      "Using data from preloaded Raw for 227 events and 1250 original time points ...\n",
      "0 bad epochs dropped\n",
      "Extracting EDF parameters from C:\\Users\\ARADHANA\\Documents\\dataverse_files\\s09.edf...\n",
      "EDF file detected\n",
      "Setting channel info structure...\n",
      "Creating raw.info structure...\n",
      "Reading 0 ... 296249  =      0.000 ...  1184.996 secs...\n",
      "EEG channel type selected for re-referencing\n",
      "Applying average reference.\n",
      "Applying a custom ('EEG',) reference.\n",
      "Filtering raw data in 1 contiguous segment\n",
      "Setting up band-pass filter from 0.5 - 45 Hz\n",
      "\n",
      "FIR filter parameters\n",
      "---------------------\n",
      "Designing a one-pass, zero-phase, non-causal bandpass filter:\n",
      "- Windowed time-domain design (firwin) method\n",
      "- Hamming window with 0.0194 passband ripple and 53 dB stopband attenuation\n",
      "- Lower passband edge: 0.50\n",
      "- Lower transition bandwidth: 0.50 Hz (-6 dB cutoff frequency: 0.25 Hz)\n",
      "- Upper passband edge: 45.00 Hz\n",
      "- Upper transition bandwidth: 11.25 Hz (-6 dB cutoff frequency: 50.62 Hz)\n",
      "- Filter length: 1651 samples (6.604 sec)\n",
      "\n",
      "Not setting metadata\n",
      "296 matching events found\n",
      "No baseline correction applied\n",
      "0 projection items activated\n",
      "Using data from preloaded Raw for 296 events and 1250 original time points ...\n",
      "0 bad epochs dropped\n",
      "Extracting EDF parameters from C:\\Users\\ARADHANA\\Documents\\dataverse_files\\s10.edf...\n",
      "EDF file detected\n",
      "Setting channel info structure...\n",
      "Creating raw.info structure...\n",
      "Reading 0 ... 212499  =      0.000 ...   849.996 secs...\n",
      "EEG channel type selected for re-referencing\n",
      "Applying average reference.\n",
      "Applying a custom ('EEG',) reference.\n",
      "Filtering raw data in 1 contiguous segment\n",
      "Setting up band-pass filter from 0.5 - 45 Hz\n",
      "\n",
      "FIR filter parameters\n",
      "---------------------\n",
      "Designing a one-pass, zero-phase, non-causal bandpass filter:\n",
      "- Windowed time-domain design (firwin) method\n",
      "- Hamming window with 0.0194 passband ripple and 53 dB stopband attenuation\n",
      "- Lower passband edge: 0.50\n",
      "- Lower transition bandwidth: 0.50 Hz (-6 dB cutoff frequency: 0.25 Hz)\n",
      "- Upper passband edge: 45.00 Hz\n",
      "- Upper transition bandwidth: 11.25 Hz (-6 dB cutoff frequency: 50.62 Hz)\n",
      "- Filter length: 1651 samples (6.604 sec)\n",
      "\n",
      "Not setting metadata\n",
      "212 matching events found\n",
      "No baseline correction applied\n",
      "0 projection items activated\n",
      "Using data from preloaded Raw for 212 events and 1250 original time points ...\n",
      "0 bad epochs dropped\n",
      "Extracting EDF parameters from C:\\Users\\ARADHANA\\Documents\\dataverse_files\\s11.edf...\n",
      "EDF file detected\n",
      "Setting channel info structure...\n",
      "Creating raw.info structure...\n",
      "Reading 0 ... 339999  =      0.000 ...  1359.996 secs...\n",
      "EEG channel type selected for re-referencing\n",
      "Applying average reference.\n",
      "Applying a custom ('EEG',) reference.\n",
      "Filtering raw data in 1 contiguous segment\n",
      "Setting up band-pass filter from 0.5 - 45 Hz\n",
      "\n",
      "FIR filter parameters\n",
      "---------------------\n",
      "Designing a one-pass, zero-phase, non-causal bandpass filter:\n",
      "- Windowed time-domain design (firwin) method\n",
      "- Hamming window with 0.0194 passband ripple and 53 dB stopband attenuation\n",
      "- Lower passband edge: 0.50\n",
      "- Lower transition bandwidth: 0.50 Hz (-6 dB cutoff frequency: 0.25 Hz)\n",
      "- Upper passband edge: 45.00 Hz\n",
      "- Upper transition bandwidth: 11.25 Hz (-6 dB cutoff frequency: 50.62 Hz)\n",
      "- Filter length: 1651 samples (6.604 sec)\n",
      "\n",
      "Not setting metadata\n",
      "339 matching events found\n",
      "No baseline correction applied\n",
      "0 projection items activated\n",
      "Using data from preloaded Raw for 339 events and 1250 original time points ...\n",
      "0 bad epochs dropped\n",
      "Extracting EDF parameters from C:\\Users\\ARADHANA\\Documents\\dataverse_files\\s12.edf...\n",
      "EDF file detected\n",
      "Setting channel info structure...\n",
      "Creating raw.info structure...\n",
      "Reading 0 ... 271749  =      0.000 ...  1086.996 secs...\n",
      "EEG channel type selected for re-referencing\n",
      "Applying average reference.\n",
      "Applying a custom ('EEG',) reference.\n",
      "Filtering raw data in 1 contiguous segment\n",
      "Setting up band-pass filter from 0.5 - 45 Hz\n",
      "\n",
      "FIR filter parameters\n",
      "---------------------\n",
      "Designing a one-pass, zero-phase, non-causal bandpass filter:\n",
      "- Windowed time-domain design (firwin) method\n",
      "- Hamming window with 0.0194 passband ripple and 53 dB stopband attenuation\n",
      "- Lower passband edge: 0.50\n",
      "- Lower transition bandwidth: 0.50 Hz (-6 dB cutoff frequency: 0.25 Hz)\n",
      "- Upper passband edge: 45.00 Hz\n",
      "- Upper transition bandwidth: 11.25 Hz (-6 dB cutoff frequency: 50.62 Hz)\n",
      "- Filter length: 1651 samples (6.604 sec)\n",
      "\n",
      "Not setting metadata\n",
      "271 matching events found\n",
      "No baseline correction applied\n",
      "0 projection items activated\n",
      "Using data from preloaded Raw for 271 events and 1250 original time points ...\n",
      "0 bad epochs dropped\n",
      "Extracting EDF parameters from C:\\Users\\ARADHANA\\Documents\\dataverse_files\\s13.edf...\n",
      "EDF file detected\n",
      "Setting channel info structure...\n",
      "Creating raw.info structure...\n",
      "Reading 0 ... 283749  =      0.000 ...  1134.996 secs...\n",
      "EEG channel type selected for re-referencing\n",
      "Applying average reference.\n",
      "Applying a custom ('EEG',) reference.\n",
      "Filtering raw data in 1 contiguous segment\n",
      "Setting up band-pass filter from 0.5 - 45 Hz\n",
      "\n",
      "FIR filter parameters\n",
      "---------------------\n",
      "Designing a one-pass, zero-phase, non-causal bandpass filter:\n",
      "- Windowed time-domain design (firwin) method\n",
      "- Hamming window with 0.0194 passband ripple and 53 dB stopband attenuation\n",
      "- Lower passband edge: 0.50\n",
      "- Lower transition bandwidth: 0.50 Hz (-6 dB cutoff frequency: 0.25 Hz)\n",
      "- Upper passband edge: 45.00 Hz\n",
      "- Upper transition bandwidth: 11.25 Hz (-6 dB cutoff frequency: 50.62 Hz)\n",
      "- Filter length: 1651 samples (6.604 sec)\n",
      "\n",
      "Not setting metadata\n",
      "283 matching events found\n",
      "No baseline correction applied\n",
      "0 projection items activated\n",
      "Using data from preloaded Raw for 283 events and 1250 original time points ...\n",
      "0 bad epochs dropped\n",
      "Extracting EDF parameters from C:\\Users\\ARADHANA\\Documents\\dataverse_files\\s14.edf...\n",
      "EDF file detected\n",
      "Setting channel info structure...\n",
      "Creating raw.info structure...\n",
      "Reading 0 ... 542499  =      0.000 ...  2169.996 secs...\n",
      "EEG channel type selected for re-referencing\n",
      "Applying average reference.\n",
      "Applying a custom ('EEG',) reference.\n",
      "Filtering raw data in 1 contiguous segment\n",
      "Setting up band-pass filter from 0.5 - 45 Hz\n",
      "\n",
      "FIR filter parameters\n",
      "---------------------\n",
      "Designing a one-pass, zero-phase, non-causal bandpass filter:\n",
      "- Windowed time-domain design (firwin) method\n",
      "- Hamming window with 0.0194 passband ripple and 53 dB stopband attenuation\n",
      "- Lower passband edge: 0.50\n",
      "- Lower transition bandwidth: 0.50 Hz (-6 dB cutoff frequency: 0.25 Hz)\n",
      "- Upper passband edge: 45.00 Hz\n",
      "- Upper transition bandwidth: 11.25 Hz (-6 dB cutoff frequency: 50.62 Hz)\n",
      "- Filter length: 1651 samples (6.604 sec)\n",
      "\n",
      "Not setting metadata\n",
      "542 matching events found\n",
      "No baseline correction applied\n",
      "0 projection items activated\n",
      "Using data from preloaded Raw for 542 events and 1250 original time points ...\n",
      "0 bad epochs dropped\n"
     ]
    }
   ],
   "source": [
    "\n",
    "\n",
    "for i in range(0,14):\n",
    "    data_set.append(read_data(patient_file_path[i]))"
   ]
  },
  {
   "cell_type": "code",
   "execution_count": 111,
   "id": "1a183237",
   "metadata": {},
   "outputs": [
    {
     "data": {
      "text/plain": [
       "28"
      ]
     },
     "execution_count": 111,
     "metadata": {},
     "output_type": "execute_result"
    }
   ],
   "source": [
    "len(data_set)"
   ]
  },
  {
   "cell_type": "code",
   "execution_count": 112,
   "id": "e7f8bf60",
   "metadata": {},
   "outputs": [
    {
     "name": "stdout",
     "output_type": "stream",
     "text": [
      "184\n"
     ]
    }
   ],
   "source": [
    "mini= 100000;\n",
    "for i in range(len(data_set)):\n",
    "    mini= min(len(data_set[i]), mini)\n",
    "    \n",
    "print(mini)    \n",
    "    \n",
    "    "
   ]
  },
  {
   "cell_type": "code",
   "execution_count": 114,
   "id": "98009f71",
   "metadata": {},
   "outputs": [
    {
     "ename": "SyntaxError",
     "evalue": "cannot assign to function call (Temp/ipykernel_17960/635491306.py, line 2)",
     "output_type": "error",
     "traceback": [
      "\u001b[1;36m  File \u001b[1;32m\"C:\\Users\\ARADHANA\\AppData\\Local\\Temp/ipykernel_17960/635491306.py\"\u001b[1;36m, line \u001b[1;32m2\u001b[0m\n\u001b[1;33m    len(data_set[i])=mini\u001b[0m\n\u001b[1;37m    ^\u001b[0m\n\u001b[1;31mSyntaxError\u001b[0m\u001b[1;31m:\u001b[0m cannot assign to function call\n"
     ]
    }
   ],
   "source": [
    "for i in range(len(data_set)):\n",
    "     "
   ]
  },
  {
   "cell_type": "code",
   "execution_count": 75,
   "id": "2830c23b",
   "metadata": {},
   "outputs": [
    {
     "name": "stdout",
     "output_type": "stream",
     "text": [
      "14\n"
     ]
    }
   ],
   "source": [
    "print(len(data_set1))"
   ]
  },
  {
   "cell_type": "code",
   "execution_count": 99,
   "id": "f69d095e",
   "metadata": {},
   "outputs": [
    {
     "data": {
      "text/plain": [
       "227"
      ]
     },
     "execution_count": 99,
     "metadata": {},
     "output_type": "execute_result"
    }
   ],
   "source": [
    "len(data_set1[7])"
   ]
  },
  {
   "cell_type": "code",
   "execution_count": 78,
   "id": "eccbb078",
   "metadata": {},
   "outputs": [
    {
     "data": {
      "text/plain": [
       "array([[[-4.65868121e-21,  1.39862895e-08,  1.10018380e-07, ...,\n",
       "          8.69103348e-06,  5.24537780e-06,  1.43569912e-06],\n",
       "        [ 5.50571416e-21, -2.66337152e-08,  3.51345206e-08, ...,\n",
       "          7.99932668e-06,  6.91225413e-06,  4.83898682e-06],\n",
       "        [ 1.69406589e-21, -2.95966815e-07, -2.04195153e-07, ...,\n",
       "         -8.36288172e-06,  3.46701960e-06,  8.44554986e-06],\n",
       "        ...,\n",
       "        [ 8.47032947e-22,  5.47357646e-10,  1.04953202e-07, ...,\n",
       "          1.98507407e-06, -1.32335383e-06, -2.83576986e-06],\n",
       "        [ 5.08219768e-21,  2.74757229e-09,  3.25959064e-08, ...,\n",
       "          5.43809745e-07, -2.00541285e-06, -3.11029677e-06],\n",
       "        [ 4.65868121e-21,  1.22820552e-08,  9.35800270e-09, ...,\n",
       "         -3.57177226e-06, -3.58065116e-06, -3.32428067e-06]],\n",
       "\n",
       "       [[-4.10971390e-08,  1.93589843e-06,  7.89426458e-07, ...,\n",
       "          5.57814686e-06,  7.35230758e-06,  8.54903796e-06],\n",
       "        [ 3.07850697e-06,  1.95738034e-06,  4.98558865e-08, ...,\n",
       "          4.75090730e-07,  4.85245000e-06,  8.80023833e-06],\n",
       "        [ 1.98815272e-07, -1.51884907e-05, -3.17663266e-05, ...,\n",
       "         -1.62046641e-05, -1.03501683e-05,  1.32884582e-06],\n",
       "        ...,\n",
       "        [-6.44562000e-06, -5.99165041e-06, -4.73241504e-06, ...,\n",
       "          1.54736689e-06,  2.51822624e-06,  2.87443391e-06],\n",
       "        [-1.97424854e-06, -1.21889810e-06,  6.00391818e-07, ...,\n",
       "          1.11468231e-06,  1.56989570e-06,  9.61713268e-07],\n",
       "        [-2.75901865e-06, -1.82846878e-06,  3.30700861e-07, ...,\n",
       "          1.35196311e-06, -2.53484366e-06, -6.26508666e-06]],\n",
       "\n",
       "       [[ 1.17597406e-06, -1.11581878e-06, -2.97550062e-06, ...,\n",
       "          6.72134529e-06,  8.24479632e-06,  9.43105998e-06],\n",
       "        [ 6.29006720e-06,  4.80531499e-06,  3.11546712e-06, ...,\n",
       "          2.48790160e-06,  3.63963042e-06,  4.30844415e-06],\n",
       "        [-1.04629628e-05, -6.55894791e-06, -1.25300369e-06, ...,\n",
       "         -4.33444466e-07, -1.00363001e-05, -1.50889468e-05],\n",
       "        ...,\n",
       "        [-1.53490754e-06, -1.88303163e-06, -3.68995862e-06, ...,\n",
       "          9.32790384e-06,  1.06248447e-05,  1.08497589e-05],\n",
       "        [-3.61764873e-08,  1.22673297e-06,  1.26339170e-06, ...,\n",
       "          7.28642374e-06,  6.49905853e-06,  5.41207913e-06],\n",
       "        [ 2.31295334e-06,  3.32445555e-06,  3.22716394e-06, ...,\n",
       "         -6.15113693e-07, -1.93265914e-06, -2.91752897e-06]],\n",
       "\n",
       "       ...,\n",
       "\n",
       "       [[ 2.65800816e-06,  3.41981592e-06,  4.10749014e-06, ...,\n",
       "          7.28514568e-06,  8.86559911e-06,  1.01866829e-05],\n",
       "        [ 1.27118034e-07,  7.71905607e-07,  1.53343472e-06, ...,\n",
       "          9.24764330e-06,  1.03020923e-05,  1.07272108e-05],\n",
       "        [-6.81286510e-07, -1.19767493e-07,  6.18685951e-07, ...,\n",
       "          7.07077604e-06,  5.86965171e-06,  4.30298157e-06],\n",
       "        ...,\n",
       "        [ 5.96880959e-06,  5.70607647e-06,  5.60920847e-06, ...,\n",
       "         -3.70367310e-06, -2.32712217e-06, -1.08933941e-06],\n",
       "        [ 4.06666034e-06,  3.43852790e-06,  2.49474945e-06, ...,\n",
       "         -5.03427221e-06, -3.64274288e-06, -2.14161389e-06],\n",
       "        [-3.91532519e-06, -5.05700598e-06, -6.12961083e-06, ...,\n",
       "         -2.62169034e-06, -1.88458628e-06, -1.12663977e-06]],\n",
       "\n",
       "       [[ 7.37289587e-06,  8.62142310e-06,  8.67104157e-06, ...,\n",
       "         -1.32176203e-05, -1.36616749e-05, -1.31228056e-05],\n",
       "        [-1.45309318e-06,  3.15251174e-07,  1.71441742e-06, ...,\n",
       "          3.30399649e-06,  2.00057416e-06,  1.03362303e-06],\n",
       "        [-4.74453328e-06, -3.02378246e-06, -1.37664785e-06, ...,\n",
       "          7.63762763e-06,  7.78495227e-06,  7.60816720e-06],\n",
       "        ...,\n",
       "        [-1.11706449e-06, -5.53225196e-07, -2.41004173e-07, ...,\n",
       "         -1.10788538e-05, -1.04068508e-05, -9.15154776e-06],\n",
       "        [-6.20121014e-07, -2.13019234e-06, -3.34015886e-06, ...,\n",
       "         -5.91410349e-06, -3.86809238e-06, -1.17067592e-06],\n",
       "        [ 3.25403785e-06,  1.88289458e-06,  8.14820024e-07, ...,\n",
       "          3.81610499e-06,  4.89072450e-06,  6.14550682e-06]],\n",
       "\n",
       "       [[ 4.50945179e-06,  6.37703539e-06,  6.62259190e-06, ...,\n",
       "          3.72639320e-11,  1.34847565e-11, -1.05879118e-21],\n",
       "        [ 3.02394548e-07,  2.39305582e-06,  3.13075877e-06, ...,\n",
       "         -1.53836851e-10, -9.67671416e-11, -6.35274710e-22],\n",
       "        [ 2.23076031e-06,  3.83320309e-06,  3.88619460e-06, ...,\n",
       "         -1.58175313e-12, -2.90971960e-11, -8.47032947e-22],\n",
       "        ...,\n",
       "        [ 1.05578711e-05,  1.10761606e-05,  1.06701637e-05, ...,\n",
       "         -2.44287801e-10, -1.40093230e-10, -4.76456033e-22],\n",
       "        [ 8.43689143e-06,  6.02953848e-06,  4.65020047e-06, ...,\n",
       "         -1.17311961e-10, -5.35997696e-11, -1.05879118e-21],\n",
       "        [-4.08133620e-06, -6.77463709e-06, -7.59498235e-06, ...,\n",
       "          6.88511994e-10,  3.64024162e-10, -1.79994501e-21]]])"
      ]
     },
     "execution_count": 78,
     "metadata": {},
     "output_type": "execute_result"
    }
   ],
   "source": [
    "data_set1[13]"
   ]
  },
  {
   "cell_type": "code",
   "execution_count": null,
   "id": "39f905e6",
   "metadata": {},
   "outputs": [],
   "source": []
  },
  {
   "cell_type": "code",
   "execution_count": 9,
   "id": "e575b333",
   "metadata": {},
   "outputs": [
    {
     "data": {
      "text/plain": [
       "(231, 19, 1250)"
      ]
     },
     "execution_count": 9,
     "metadata": {},
     "output_type": "execute_result"
    }
   ],
   "source": [
    "sample_data.shape #no of epochs, channels, length of signal(time)"
   ]
  },
  {
   "cell_type": "code",
   "execution_count": 10,
   "id": "d3663ec9",
   "metadata": {},
   "outputs": [],
   "source": [
    "%%capture\n",
    "control_epochs_array = [read_data(i) for i in healthy_file_path]\n",
    "patient_epochs_array = [read_data(i) for i in patient_file_path]"
   ]
  },
  {
   "cell_type": "code",
   "execution_count": 98,
   "id": "ef59705e",
   "metadata": {},
   "outputs": [
    {
     "data": {
      "text/plain": [
       "231"
      ]
     },
     "execution_count": 98,
     "metadata": {},
     "output_type": "execute_result"
    }
   ],
   "source": [
    "len(control_epochs_array[0])"
   ]
  },
  {
   "cell_type": "code",
   "execution_count": 11,
   "id": "5aa6ff74",
   "metadata": {},
   "outputs": [
    {
     "data": {
      "text/plain": [
       "((231, 19, 1250), (227, 19, 1250))"
      ]
     },
     "execution_count": 11,
     "metadata": {},
     "output_type": "execute_result"
    }
   ],
   "source": [
    "control_epochs_array[0].shape , control_epochs_array[1].shape"
   ]
  },
  {
   "cell_type": "code",
   "execution_count": 12,
   "id": "e0f5f404",
   "metadata": {},
   "outputs": [
    {
     "data": {
      "text/plain": [
       "(14, 14)"
      ]
     },
     "execution_count": 12,
     "metadata": {},
     "output_type": "execute_result"
    }
   ],
   "source": [
    "control_epochs_labels = [len(i)*[0] for i in control_epochs_array]\n",
    "patient_epochs_labels = [len(i)*[1] for i in patient_epochs_array]\n",
    "len(control_epochs_labels) , len(patient_epochs_labels)"
   ]
  },
  {
   "cell_type": "code",
   "execution_count": 96,
   "id": "d7df3cf6",
   "metadata": {},
   "outputs": [
    {
     "name": "stdout",
     "output_type": "stream",
     "text": [
      "28 28\n"
     ]
    }
   ],
   "source": [
    "epoch= control_epochs_array+patient_epochs_array\n",
    "epochs_label = control_epochs_labels +patient_epochs_labels\n",
    "print(len(epochs_array_), len(epochs_label))\n"
   ]
  },
  {
   "cell_type": "code",
   "execution_count": 13,
   "id": "0506a0aa",
   "metadata": {},
   "outputs": [],
   "source": [
    "data_list = control_epochs_array + patient_epochs_array\n",
    "label_list = control_epochs_labels + patient_epochs_labels"
   ]
  },
  {
   "cell_type": "code",
   "execution_count": 40,
   "id": "c41b6e6f",
   "metadata": {},
   "outputs": [],
   "source": [
    "#print(data_list)"
   ]
  },
  {
   "cell_type": "code",
   "execution_count": 1,
   "id": "54813702",
   "metadata": {},
   "outputs": [],
   "source": [
    "#print(label_list)"
   ]
  },
  {
   "cell_type": "code",
   "execution_count": 28,
   "id": "a12f4837",
   "metadata": {},
   "outputs": [
    {
     "name": "stdout",
     "output_type": "stream",
     "text": [
      "14 14\n"
     ]
    },
    {
     "name": "stderr",
     "output_type": "stream",
     "text": [
      "C:\\ProgramData\\Anaconda3\\lib\\site-packages\\numpy\\lib\\shape_base.py:652: VisibleDeprecationWarning: Creating an ndarray from ragged nested sequences (which is a list-or-tuple of lists-or-tuples-or ndarrays with different lengths or shapes) is deprecated. If you meant to do this, you must specify 'dtype=object' when creating the ndarray.\n",
      "  arr = array(v, copy=False, subok=True)\n"
     ]
    }
   ],
   "source": [
    "epochs_array = np.column_stack((control_epochs_array , patient_epochs_array))\n",
    "epochs_labels = np.column_stack((control_epochs_labels, patient_epochs_labels))\n",
    "print(len(epochs_array), len(epochs_labels))"
   ]
  },
  {
   "cell_type": "code",
   "execution_count": 29,
   "id": "97605964",
   "metadata": {},
   "outputs": [
    {
     "data": {
      "text/plain": [
       "28"
      ]
     },
     "execution_count": 29,
     "metadata": {},
     "output_type": "execute_result"
    }
   ],
   "source": [
    "group_list = [[i]*len(j) for i,j in enumerate(data_list)]\n",
    "len(group_list)"
   ]
  },
  {
   "cell_type": "code",
   "execution_count": 2,
   "id": "59e46076",
   "metadata": {},
   "outputs": [],
   "source": [
    "#print(group_list)"
   ]
  },
  {
   "cell_type": "markdown",
   "id": "76f9ebbe",
   "metadata": {},
   "source": [
    "part 2 : Machine Learning Classification"
   ]
  },
  {
   "cell_type": "code",
   "execution_count": 30,
   "id": "0cf9dac3",
   "metadata": {},
   "outputs": [
    {
     "name": "stdout",
     "output_type": "stream",
     "text": [
      "(7201, 19, 1250) (7201,) (7201,)\n"
     ]
    }
   ],
   "source": [
    "data_array = np.vstack(data_list)\n",
    "label_array = np.hstack(label_list)\n",
    "group_array = np.hstack(group_list)\n",
    "print(data_array.shape, label_array.shape , group_array.shape)"
   ]
  },
  {
   "cell_type": "code",
   "execution_count": 31,
   "id": "9566e5be",
   "metadata": {},
   "outputs": [
    {
     "data": {
      "text/plain": [
       "(7201, 19)"
      ]
     },
     "execution_count": 31,
     "metadata": {},
     "output_type": "execute_result"
    }
   ],
   "source": [
    "np.mean(data_array, axis = -1).shape"
   ]
  },
  {
   "cell_type": "code",
   "execution_count": 32,
   "id": "4552903e",
   "metadata": {},
   "outputs": [],
   "source": [
    "from scipy import stats\n",
    "def mean(x):\n",
    "    return np.mean(x, axis = -1)\n",
    "def std(x):\n",
    "    return np.std(x, axis =-1)\n",
    "def ptp(x):\n",
    "    return np.ptp(x, axis = -1)\n",
    "def var(x):\n",
    "    return np.var(x, axis = -1)\n",
    "def minln(x):\n",
    "    return np.min(x, axis = -1)\n",
    "def maxim(x):\n",
    "    return np.max(x, axis = -1)\n",
    "def argminim(x):\n",
    "    return np.argmin(x, axis = -1)\n",
    "def argmaxim(x):\n",
    "    return np.argmax(x, axis = -1)\n",
    "def res(x):\n",
    "    return np.sqrt(np.mean(x**2 , axis = -1))\n",
    "def abs_diff_signal(x):\n",
    "    return np.sum(np.abs(np.diff(x, axis = -1)), axis = -1)\n",
    "def skewness(x):\n",
    "    return stats.skew(x, axis = -1)\n",
    "def kurtosis(x):\n",
    "    return stats.kurtosis(x, axis = -1)\n",
    "def concatenate_features(x):\n",
    "    return np.concatenate((mean(x), std(x), ptp(x), var(x), argminim(x), argminim(x) , argmaxim(x) , res(x), abs_diff_signal(x),\n",
    "skewness(x), kurtosis(x)), axis = -1)"
   ]
  },
  {
   "cell_type": "code",
   "execution_count": 33,
   "id": "b1a8dfc8",
   "metadata": {},
   "outputs": [],
   "source": [
    "features =[]\n",
    "for d in data_array:\n",
    "    features.append(concatenate_features(d))"
   ]
  },
  {
   "cell_type": "code",
   "execution_count": 34,
   "id": "7573b818",
   "metadata": {},
   "outputs": [
    {
     "data": {
      "text/plain": [
       "(7201, 209)"
      ]
     },
     "execution_count": 34,
     "metadata": {},
     "output_type": "execute_result"
    }
   ],
   "source": [
    "features_array = np.array(features)\n",
    "features_array.shape  #no. of epochs * (channel*11(no. of features))"
   ]
  },
  {
   "cell_type": "code",
   "execution_count": 35,
   "id": "c632332d",
   "metadata": {},
   "outputs": [],
   "source": [
    "from sklearn.linear_model import LogisticRegression\n",
    "from sklearn.pipeline import Pipeline\n",
    "from sklearn.preprocessing import StandardScaler\n",
    "from sklearn.model_selection import GroupKFold, GridSearchCV\n",
    "from sklearn.model_selection import train_test_split"
   ]
  },
  {
   "cell_type": "code",
   "execution_count": 36,
   "id": "3053c782",
   "metadata": {},
   "outputs": [
    {
     "name": "stderr",
     "output_type": "stream",
     "text": [
      "C:\\ProgramData\\Anaconda3\\lib\\site-packages\\sklearn\\linear_model\\_logistic.py:763: ConvergenceWarning: lbfgs failed to converge (status=1):\n",
      "STOP: TOTAL NO. of ITERATIONS REACHED LIMIT.\n",
      "\n",
      "Increase the number of iterations (max_iter) or scale the data as shown in:\n",
      "    https://scikit-learn.org/stable/modules/preprocessing.html\n",
      "Please also refer to the documentation for alternative solver options:\n",
      "    https://scikit-learn.org/stable/modules/linear_model.html#logistic-regression\n",
      "  n_iter_i = _check_optimize_result(\n"
     ]
    },
    {
     "data": {
      "text/plain": [
       "GridSearchCV(cv=GroupKFold(n_splits=5),\n",
       "             estimator=Pipeline(steps=[('scaler', StandardScaler()),\n",
       "                                       ('clf', LogisticRegression())]),\n",
       "             n_jobs=14, param_grid={'clf__C': [0.1, 0.5, 0.7, 1, 3, 5, 7]})"
      ]
     },
     "execution_count": 36,
     "metadata": {},
     "output_type": "execute_result"
    }
   ],
   "source": [
    "clf = LogisticRegression()\n",
    "gkf = GroupKFold(5)\n",
    "pipe = Pipeline([('scaler',StandardScaler()),('clf',clf)])\n",
    "\n",
    "param_grid ={'clf__C':[0.1, 0.5, 0.7 , 1,3, 5, 7]}\n",
    "\n",
    "gscv = GridSearchCV(pipe ,param_grid, cv= gkf, n_jobs = 14)\n",
    "\n",
    "\n",
    "gscv.fit(features_array,label_array, groups= group_array)"
   ]
  },
  {
   "cell_type": "code",
   "execution_count": 37,
   "id": "2af76081",
   "metadata": {},
   "outputs": [
    {
     "data": {
      "text/plain": [
       "0.6642054193034415"
      ]
     },
     "execution_count": 37,
     "metadata": {},
     "output_type": "execute_result"
    }
   ],
   "source": [
    "gscv.best_score_"
   ]
  },
  {
   "cell_type": "markdown",
   "id": "c496c70a",
   "metadata": {},
   "source": [
    "part 3 Deep Learning CNN"
   ]
  },
  {
   "cell_type": "code",
   "execution_count": 42,
   "id": "2b387ff2",
   "metadata": {},
   "outputs": [],
   "source": [
    "epochs_array = np.vstack(epochs_array_)\n",
    "epochs_labels = np.hstack(epochs_labels)\n",
    "groups_array = np.hstack(group_array)"
   ]
  },
  {
   "cell_type": "code",
   "execution_count": 43,
   "id": "638ee7cc",
   "metadata": {},
   "outputs": [
    {
     "data": {
      "text/plain": [
       "((7201, 19, 1250), (7201,), (7201,))"
      ]
     },
     "execution_count": 43,
     "metadata": {},
     "output_type": "execute_result"
    }
   ],
   "source": [
    "epochs_array.shape, epochs_labels.shape , groups_array.shape"
   ]
  },
  {
   "cell_type": "code",
   "execution_count": 44,
   "id": "ea2c53f1",
   "metadata": {},
   "outputs": [
    {
     "data": {
      "text/plain": [
       "(7201, 1250, 19)"
      ]
     },
     "execution_count": 44,
     "metadata": {},
     "output_type": "execute_result"
    }
   ],
   "source": [
    "epochs_array = np.moveaxis(epochs_array, 1, 2)\n",
    "epochs_array.shape"
   ]
  },
  {
   "cell_type": "code",
   "execution_count": 61,
   "id": "cb38d52b",
   "metadata": {},
   "outputs": [
    {
     "name": "stdout",
     "output_type": "stream",
     "text": [
      "Model: \"sequential\"\n",
      "_________________________________________________________________\n",
      " Layer (type)                Output Shape              Param #   \n",
      "=================================================================\n",
      " conv1d (Conv1D)             (None, 1248, 5)           290       \n",
      "                                                                 \n",
      " batch_normalization (BatchN  (None, 1248, 5)          20        \n",
      " ormalization)                                                   \n",
      "                                                                 \n",
      " conv1d_1 (Conv1D)           (None, 1246, 5)           80        \n",
      "                                                                 \n",
      " dropout (Dropout)           (None, 1246, 5)           0         \n",
      "                                                                 \n",
      " conv1d_2 (Conv1D)           (None, 1244, 5)           80        \n",
      "                                                                 \n",
      " conv1d_3 (Conv1D)           (None, 1242, 5)           80        \n",
      "                                                                 \n",
      " conv1d_4 (Conv1D)           (None, 1238, 7)           182       \n",
      "                                                                 \n",
      " conv1d_5 (Conv1D)           (None, 1234, 7)           252       \n",
      "                                                                 \n",
      " conv1d_6 (Conv1D)           (None, 1230, 7)           252       \n",
      "                                                                 \n",
      " conv1d_7 (Conv1D)           (None, 1228, 9)           198       \n",
      "                                                                 \n",
      " conv1d_8 (Conv1D)           (None, 1226, 9)           252       \n",
      "                                                                 \n",
      " conv1d_9 (Conv1D)           (None, 1224, 9)           252       \n",
      "                                                                 \n",
      " global_average_pooling1d (G  (None, 9)                0         \n",
      " lobalAveragePooling1D)                                          \n",
      "                                                                 \n",
      " dense (Dense)               (None, 1)                 10        \n",
      "                                                                 \n",
      "=================================================================\n",
      "Total params: 1,948\n",
      "Trainable params: 1,938\n",
      "Non-trainable params: 10\n",
      "_________________________________________________________________\n"
     ]
    }
   ],
   "source": [
    "from tensorflow.keras.layers import Conv1D, BatchNormalization , LeakyReLU, MaxPool1D,GlobalAveragePooling1D, Dense ,Dropout, AveragePooling1D\n",
    "from tensorflow.keras.models import Sequential\n",
    "from tensorflow.keras.backend import clear_session\n",
    "def cnnmodel():\n",
    "    clear_session()\n",
    "    model = Sequential()\n",
    "    #1\n",
    "    model.add(Conv1D(filters = 5, kernel_size = 3, strides= 1, input_shape= (1250, 19)))\n",
    "    model.add(BatchNormalization())\n",
    "    #2\n",
    "    model.add(Conv1D(filters = 5, kernel_size = 3, strides = 1))\n",
    "    model.add(Dropout(0.5))\n",
    "    #3\n",
    "    model.add(Conv1D(filters= 5, kernel_size = 3, strides= 1))\n",
    "    #4\n",
    "    model.add(Conv1D(filters= 5, kernel_size = 3, strides= 1))\n",
    "    #5\n",
    "    model.add(Conv1D(filters= 7, kernel_size= 5, strides = 1))\n",
    "    #6\n",
    "    model.add(Conv1D(filters= 7, kernel_size= 5, strides = 1))\n",
    "    #7\n",
    "    model.add(Conv1D(filters= 7, kernel_size= 5, strides = 1))\n",
    "    #8\n",
    "    model.add(Conv1D(filters= 9, kernel_size= 3, strides = 1))\n",
    "    model.add(Conv1D(filters= 9, kernel_size= 3, strides = 1))\n",
    "    model.add(Conv1D(filters= 9, kernel_size= 3, strides = 1))\n",
    "  \n",
    "    #model.add(LeakyReLU)\n",
    "    model.add(GlobalAveragePooling1D())\n",
    "   \n",
    "\n",
    "    model.add(Dense(1,activation='sigmoid'))\n",
    "    \n",
    "    model.compile('adam', loss ='binary_crossentropy', metrics=['accuracy'])\n",
    "    return model\n",
    "\n",
    "model = cnnmodel()\n",
    "model.summary()"
   ]
  },
  {
   "cell_type": "code",
   "execution_count": 62,
   "id": "c16b5840",
   "metadata": {},
   "outputs": [],
   "source": [
    "from sklearn.model_selection import GroupKFold #, LeavesOneGroupOut\n",
    "from sklearn.preprocessing  import StandardScaler\n",
    "gkf = GroupKFold()"
   ]
  },
  {
   "cell_type": "code",
   "execution_count": null,
   "id": "bc5f107e",
   "metadata": {},
   "outputs": [],
   "source": []
  },
  {
   "cell_type": "code",
   "execution_count": null,
   "id": "4f9cbbf8",
   "metadata": {},
   "outputs": [],
   "source": []
  },
  {
   "cell_type": "code",
   "execution_count": 64,
   "id": "4f708ec6",
   "metadata": {},
   "outputs": [
    {
     "name": "stdout",
     "output_type": "stream",
     "text": [
      "Epoch 1/30\n",
      "2872/2872 [==============================] - 17s 6ms/step - loss: 0.6897 - accuracy: 0.5481 - val_loss: 0.6901 - val_accuracy: 0.5408\n",
      "Epoch 2/30\n",
      "2872/2872 [==============================] - 17s 6ms/step - loss: 0.6885 - accuracy: 0.5505 - val_loss: 0.6915 - val_accuracy: 0.5388\n",
      "Epoch 3/30\n",
      "2872/2872 [==============================] - 23s 8ms/step - loss: 0.6888 - accuracy: 0.5491 - val_loss: 0.6899 - val_accuracy: 0.5408\n",
      "Epoch 4/30\n",
      "2872/2872 [==============================] - 23s 8ms/step - loss: 0.6887 - accuracy: 0.5505 - val_loss: 0.6898 - val_accuracy: 0.5408\n",
      "Epoch 5/30\n",
      "2872/2872 [==============================] - 23s 8ms/step - loss: 0.6887 - accuracy: 0.5503 - val_loss: 0.6898 - val_accuracy: 0.5408\n",
      "Epoch 6/30\n",
      "2872/2872 [==============================] - 26s 9ms/step - loss: 0.6886 - accuracy: 0.5487 - val_loss: 0.6898 - val_accuracy: 0.5408\n",
      "Epoch 7/30\n",
      "2872/2872 [==============================] - 16s 6ms/step - loss: 0.6887 - accuracy: 0.5500 - val_loss: 0.6900 - val_accuracy: 0.5408\n",
      "Epoch 8/30\n",
      "2872/2872 [==============================] - 18s 6ms/step - loss: 0.6887 - accuracy: 0.5505 - val_loss: 0.6898 - val_accuracy: 0.5408\n",
      "Epoch 9/30\n",
      "2872/2872 [==============================] - 15s 5ms/step - loss: 0.6882 - accuracy: 0.5493 - val_loss: 0.6901 - val_accuracy: 0.5408\n",
      "Epoch 10/30\n",
      "2872/2872 [==============================] - 18s 6ms/step - loss: 0.6885 - accuracy: 0.5496 - val_loss: 0.6900 - val_accuracy: 0.5408\n",
      "Epoch 11/30\n",
      "2872/2872 [==============================] - 19s 7ms/step - loss: 0.6884 - accuracy: 0.5505 - val_loss: 0.6907 - val_accuracy: 0.5408\n",
      "Epoch 12/30\n",
      "2872/2872 [==============================] - 16s 5ms/step - loss: 0.6883 - accuracy: 0.5505 - val_loss: 0.6898 - val_accuracy: 0.5408\n",
      "Epoch 13/30\n",
      "2872/2872 [==============================] - 18s 6ms/step - loss: 0.6885 - accuracy: 0.5505 - val_loss: 0.6899 - val_accuracy: 0.5408\n",
      "Epoch 14/30\n",
      "2872/2872 [==============================] - 19s 7ms/step - loss: 0.6883 - accuracy: 0.5505 - val_loss: 0.6904 - val_accuracy: 0.5408\n",
      "Epoch 15/30\n",
      "2872/2872 [==============================] - 23s 8ms/step - loss: 0.6884 - accuracy: 0.5505 - val_loss: 0.6898 - val_accuracy: 0.5408\n",
      "Epoch 16/30\n",
      "2872/2872 [==============================] - 14s 5ms/step - loss: 0.6883 - accuracy: 0.5505 - val_loss: 0.6896 - val_accuracy: 0.5408\n",
      "Epoch 17/30\n",
      "2872/2872 [==============================] - 27s 9ms/step - loss: 0.6885 - accuracy: 0.5507 - val_loss: 0.6900 - val_accuracy: 0.5408\n",
      "Epoch 18/30\n",
      "2872/2872 [==============================] - 14s 5ms/step - loss: 0.6884 - accuracy: 0.5505 - val_loss: 0.6900 - val_accuracy: 0.5408\n",
      "Epoch 19/30\n",
      "2872/2872 [==============================] - 22s 8ms/step - loss: 0.6883 - accuracy: 0.5505 - val_loss: 0.6898 - val_accuracy: 0.5408\n",
      "Epoch 20/30\n",
      "2872/2872 [==============================] - 15s 5ms/step - loss: 0.6883 - accuracy: 0.5505 - val_loss: 0.6900 - val_accuracy: 0.5408\n",
      "Epoch 21/30\n",
      "2872/2872 [==============================] - 19s 7ms/step - loss: 0.6883 - accuracy: 0.5505 - val_loss: 0.6901 - val_accuracy: 0.5408\n",
      "Epoch 22/30\n",
      "2872/2872 [==============================] - 16s 6ms/step - loss: 0.6886 - accuracy: 0.5505 - val_loss: 0.6899 - val_accuracy: 0.5408\n",
      "Epoch 23/30\n",
      "2872/2872 [==============================] - 16s 6ms/step - loss: 0.6883 - accuracy: 0.5503 - val_loss: 0.6899 - val_accuracy: 0.5408\n",
      "Epoch 24/30\n",
      "2872/2872 [==============================] - 18s 6ms/step - loss: 0.6883 - accuracy: 0.5507 - val_loss: 0.6902 - val_accuracy: 0.5408\n",
      "Epoch 25/30\n",
      "2872/2872 [==============================] - 17s 6ms/step - loss: 0.6881 - accuracy: 0.5477 - val_loss: 0.6898 - val_accuracy: 0.5408\n",
      "Epoch 26/30\n",
      "2872/2872 [==============================] - 16s 6ms/step - loss: 0.6884 - accuracy: 0.5507 - val_loss: 0.6899 - val_accuracy: 0.5408\n",
      "Epoch 27/30\n",
      "2872/2872 [==============================] - 16s 6ms/step - loss: 0.6883 - accuracy: 0.5505 - val_loss: 0.6900 - val_accuracy: 0.5408\n",
      "Epoch 28/30\n",
      "2872/2872 [==============================] - 19s 7ms/step - loss: 0.6882 - accuracy: 0.5505 - val_loss: 0.6900 - val_accuracy: 0.5408\n",
      "Epoch 29/30\n",
      "2872/2872 [==============================] - 18s 6ms/step - loss: 0.6882 - accuracy: 0.5505 - val_loss: 0.6899 - val_accuracy: 0.5408\n",
      "Epoch 30/30\n",
      "2872/2872 [==============================] - 17s 6ms/step - loss: 0.6882 - accuracy: 0.5505 - val_loss: 0.6898 - val_accuracy: 0.5408\n",
      "46/46 [==============================] - 1s 17ms/step - loss: 0.6898 - accuracy: 0.5408\n"
     ]
    }
   ],
   "source": [
    "accuracy =[]\n",
    "for train_index, val_index in gkf.split(epochs_array , epochs_labels , groups = groups_array):\n",
    "    train_features, train_labels = epochs_array[train_index], epochs_labels[train_index]\n",
    "    val_features , val_labels = epochs_array[val_index], epochs_labels[val_index]\n",
    "    \n",
    "    scaler = StandardScaler()\n",
    "    train_features= scaler.fit_transform(train_features.reshape(-1,train_features.shape[-1])).reshape(train_features.shape)\n",
    "    \n",
    "    val_features = scaler.transform(val_features.reshape(-1,val_features.shape[-1])).reshape(val_features.shape)\n",
    "\n",
    "    model= cnnmodel()\n",
    "    model.fit(train_features, train_labels , epochs = 30, batch_size = 2, validation_data = (val_features, val_labels))\n",
    "    accuracy.append(model.evaluate(val_features , val_labels)[1])\n",
    "    break\n",
    "    "
   ]
  },
  {
   "cell_type": "code",
   "execution_count": 65,
   "id": "7eb3f031",
   "metadata": {},
   "outputs": [
    {
     "data": {
      "text/plain": [
       "(7180000, 19)"
      ]
     },
     "execution_count": 65,
     "metadata": {},
     "output_type": "execute_result"
    }
   ],
   "source": [
    "train_features.reshape(-1,train_features.shape[-1]).shape\n"
   ]
  },
  {
   "cell_type": "code",
   "execution_count": 66,
   "id": "42388618",
   "metadata": {},
   "outputs": [
    {
     "data": {
      "text/plain": [
       "(5744, 1250, 19)"
      ]
     },
     "execution_count": 66,
     "metadata": {},
     "output_type": "execute_result"
    }
   ],
   "source": [
    "train_features.shape"
   ]
  },
  {
   "cell_type": "code",
   "execution_count": 67,
   "id": "ea6e1867",
   "metadata": {},
   "outputs": [
    {
     "name": "stdout",
     "output_type": "stream",
     "text": [
      "[0.5408373475074768]\n"
     ]
    }
   ],
   "source": [
    "print(accuracy)"
   ]
  }
 ],
 "metadata": {
  "kernelspec": {
   "display_name": "Python 3 (ipykernel)",
   "language": "python",
   "name": "python3"
  },
  "language_info": {
   "codemirror_mode": {
    "name": "ipython",
    "version": 3
   },
   "file_extension": ".py",
   "mimetype": "text/x-python",
   "name": "python",
   "nbconvert_exporter": "python",
   "pygments_lexer": "ipython3",
   "version": "3.9.7"
  }
 },
 "nbformat": 4,
 "nbformat_minor": 5
}
